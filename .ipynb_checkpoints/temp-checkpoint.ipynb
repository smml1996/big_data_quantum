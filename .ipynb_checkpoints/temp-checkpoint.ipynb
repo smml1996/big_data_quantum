{
 "cells": [
  {
   "cell_type": "markdown",
   "metadata": {},
   "source": [
    "# Quantum Annealing and Feature Selection for Big Data "
   ]
  },
  {
   "cell_type": "markdown",
   "metadata": {},
   "source": [
    "## Teoría de la Información"
   ]
  },
  {
   "cell_type": "markdown",
   "metadata": {},
   "source": [
    "### Entropía de Shannon (ES)"
   ]
  },
  {
   "cell_type": "markdown",
   "metadata": {},
   "source": [
    "Se denota por $H(X)$, y se usa para cuantificar la información que una variable aleatoria tiene. Si tenemos una variable aleatoria X, entonces la entropia de Shannon es:"
   ]
  },
  {
   "cell_type": "markdown",
   "metadata": {},
   "source": [
    "$$H(X) = - \\sum_{x \\in X} p(x) \\log p(x)$$"
   ]
  },
  {
   "cell_type": "markdown",
   "metadata": {},
   "source": [
    "$$= \\sum_{x \\in X} p(x) \\log p(x)^{-1}$$"
   ]
  },
  {
   "cell_type": "markdown",
   "metadata": {},
   "source": [
    "Esta formula podría entenderse: \"mientras menos probable es que ocurra un evento, más información contiene\"."
   ]
  },
  {
   "cell_type": "markdown",
   "metadata": {},
   "source": [
    "### Entropía condicional de Shannon (ECS)"
   ]
  },
  {
   "cell_type": "markdown",
   "metadata": {},
   "source": [
    "La entropía condicional mide la información que contiene una variable aleatoria $X$ cuando ya se sabe el valor de otra variable aleatoria $Y$."
   ]
  },
  {
   "cell_type": "markdown",
   "metadata": {},
   "source": [
    "$$H(X|Y)  = H(X,Y)-H(Y) = - \\sum_{x \\in X} p(x, y) \\log p(x, y) - H(Y)$$"
   ]
  },
  {
   "cell_type": "markdown",
   "metadata": {},
   "source": [
    "### Información Mutual (IM)"
   ]
  },
  {
   "cell_type": "markdown",
   "metadata": {},
   "source": [
    "Cuantifica cuanto podemos saber de una variable observando a otra:"
   ]
  },
  {
   "cell_type": "markdown",
   "metadata": {},
   "source": [
    "$$I(X;Y)= H(Y) - H(Y|X)  = \\sum_{y \\in Y} \\sum_{x \\in X} p(x, y) \\log \\frac{p(x,y)}{p(x)p(y)}$$"
   ]
  },
  {
   "cell_type": "markdown",
   "metadata": {},
   "source": [
    "### Información Mutual Condicional (IMC)"
   ]
  },
  {
   "cell_type": "markdown",
   "metadata": {},
   "source": [
    "La información condicional mutua entre una variable de interés $X$, y un atributo Y dada la selección de un atributo Z se da por:"
   ]
  },
  {
   "cell_type": "markdown",
   "metadata": {},
   "source": [
    "$$I(X;Y|Z) = H(X|Z)-H(X|Y,Z)$$"
   ]
  },
  {
   "cell_type": "markdown",
   "metadata": {},
   "source": [
    "## Recalentamiento Cuántico"
   ]
  },
  {
   "cell_type": "markdown",
   "metadata": {},
   "source": [
    "Recalentamiento cuántico es un paradigma de computación cuántica que deriva de un paradigma de computación cuántica universal conocido como <strong>computación adiábatica</strong>. En la siguiente imagen se puede observar la division de estos paradigmas (siendo <strong>Quantum Annealing</strong> aquella con la que estamos tratando en el presente trabajo)."
   ]
  },
  {
   "cell_type": "markdown",
   "metadata": {},
   "source": [
    "<img src=\"./img/types_qc.png\" alt=\"tipos de computación cuántica\">"
   ]
  },
  {
   "cell_type": "markdown",
   "metadata": {},
   "source": [
    "A diferencia de los paradigmas universales que son computadoras cuánticas hechas para resolver todo tipo de problemas, las computadoras basadas en recalentamiento cuántico solo resuelven problemas de optimización. A pesar de parecer un inconveniente, el hecho de que sea especializado es que lo ha permitido escalar más que otros paradigmas, llegando a desarrollar computadoras cuánticas de hasta 2048 qubits."
   ]
  },
  {
   "cell_type": "markdown",
   "metadata": {},
   "source": [
    "En este caso vamos a usar una computadora cuántica de D-Wave basada en este paradigma. Para poder resolver un problema con recalentamiento cuántico debemos poder formular nuestro problema en un <strong>QUBO</strong>:"
   ]
  },
  {
   "cell_type": "markdown",
   "metadata": {},
   "source": [
    "$$\\sum_i^N q_ix_i + \\sum_{i<j}^N q_{i,j}x_i  x_j$$"
   ]
  },
  {
   "cell_type": "markdown",
   "metadata": {},
   "source": [
    "Dados unos coeficientes $q_i$ y $q_{ij}$, el la máquina cuántica encontrara la configuración de las variables binarias $x_{i}$, tal que esta expresión sea lo mínima posible. "
   ]
  },
  {
   "cell_type": "markdown",
   "metadata": {},
   "source": [
    "Se deben tener en cuenta las siguientes consideraciones:\n",
    "    - los coeficientes de los términos lineales representan un campo de fuerza que se aplica a un qubit (x) para su giro represente un 1 o un 0.\n",
    "    - los coeficientes de los términos cuadráticos representan un fenómeno en el mundo subatómico llamado entrelazamiento cuántico, y el valor de este determina si 2 qubits van a ser iguales o diferentes."
   ]
  },
  {
   "cell_type": "markdown",
   "metadata": {},
   "source": [
    "Una computadora cuantica tiene una unidad de procesamiento que se puede visualizar como un unidades de un grafo $K_{4,4}$ y estas se conectan entre sí:"
   ]
  },
  {
   "cell_type": "markdown",
   "metadata": {},
   "source": [
    "<img src=\"./img/chimera.png\" alt=\"chimera\">"
   ]
  },
  {
   "cell_type": "markdown",
   "metadata": {},
   "source": [
    "En esta imagen los circulos rojos representan qubits, y las aristas tienen como peso los coeficientes cuadráticos del QUBO. Este grafo se conoce como <strong>Quimera</strong>."
   ]
  },
  {
   "cell_type": "markdown",
   "metadata": {},
   "source": [
    "El problema de asignar de la mejor forma los qubits tal que las conexiones existan se conoce como <u>Minor Embedding</u>."
   ]
  },
  {
   "cell_type": "markdown",
   "metadata": {},
   "source": [
    "Cuando el problema es muy grande se tiene que ver la forma de procesar por lotes, y asignar así una función de pérdida o ganancia (parecido a minimos cuadrados) y ademas tienen que duplicarse qubits, o formar qubits logicos con 2 o más qubits físicos."
   ]
  },
  {
   "cell_type": "code",
   "execution_count": null,
   "metadata": {},
   "outputs": [],
   "source": []
  }
 ],
 "metadata": {
  "kernelspec": {
   "display_name": "Python 3",
   "language": "python",
   "name": "python3"
  },
  "language_info": {
   "codemirror_mode": {
    "name": "ipython",
    "version": 3
   },
   "file_extension": ".py",
   "mimetype": "text/x-python",
   "name": "python",
   "nbconvert_exporter": "python",
   "pygments_lexer": "ipython3",
   "version": "3.6.7"
  }
 },
 "nbformat": 4,
 "nbformat_minor": 4
}
