{
 "cells": [
  {
   "cell_type": "code",
   "execution_count": 1,
   "metadata": {},
   "outputs": [],
   "source": [
    "import numpy as np\n",
    "import pandas as pd\n",
    "import libsvm2csv\n",
    "from pyitlib.discrete_random_variable import information_mutual_conditional, information_mutual\n",
    "import dimod"
   ]
  },
  {
   "cell_type": "markdown",
   "metadata": {},
   "source": [
    "# Obteniendo el QUBO"
   ]
  },
  {
   "cell_type": "markdown",
   "metadata": {},
   "source": [
    "<table style=\"width:75%\">\n",
    "  <tr>\n",
    "    <th width=\"10%\"></th>\n",
    "    <th width=\"35%\">Formula</th>\n",
    "    <th width=\"10%\">Optimization</th> \n",
    "    <th width=\"10%\">Linear Terms</th>\n",
    "    <th width=\"15%\">Quadratic Terms</th>\n",
    "  </tr>\n",
    "  <tr>\n",
    "    <td><b>Feature Selection</b></td> \n",
    "    <td>$\\sum_{i=1}^n \\left \\{ I(X_i;Y) + \\sum_{j \\in k|i} I(X_j;Y |X_i) \\right \\}$</td>\n",
    "    <td>Maximize</td> \n",
    "    <td>$I(X_i;Y)$</td>\n",
    "    <td>$I(X_j;Y |X_i)$</td>\n",
    "  </tr>\n",
    "  <tr>\n",
    "    <td><b>QUBO</b></td>\n",
    "    <td>$\\sum_i^N q_ix_i + \\sum_{i<j}^N q_{i,j}x_i  x_j$</td>\n",
    "    <td>Minimize</td> \n",
    "    <td>$q_ix_i$</td>\n",
    "    <td>$q_{i,j}x_ix_j$</td>\n",
    "  </tr>\n",
    "</table>"
   ]
  },
  {
   "cell_type": "code",
   "execution_count": 2,
   "metadata": {},
   "outputs": [],
   "source": [
    "def add_force_fields(dataset,target):\n",
    "    #dataset -> dataframe\n",
    "    #target -> string\n",
    "    \n",
    "    y = dataset[target].values\n",
    "    features = dataset.drop(target, axis=1)\n",
    "    columns = features.columns\n",
    "    \n",
    "    for feature in columns:\n",
    "        bqm.add_variable(feature,information_mutual(features[feature].values, y))"
   ]
  },
  {
   "cell_type": "code",
   "execution_count": 3,
   "metadata": {},
   "outputs": [],
   "source": [
    "def add_couplers(dataset, target):\n",
    "    cond_mutual_inf = dict()\n",
    "    \n",
    "    y = dataset[target].values\n",
    "    features = dataset.drop(target, axis=1)\n",
    "    columns = features.columns\n",
    "    \n",
    "    for feature1 in columns:\n",
    "        for feature2 in columns:\n",
    "            if feature1 == feature2:\n",
    "                continue\n",
    "            else:\n",
    "                # normalized within range and added interactions\n",
    "                bqm.add_interaction(feature1, feature2, information_mutual_conditional(\n",
    "                    features[feature1].values,features[feature2].values,y))\n",
    "                bqm.add_interaction(feature2, feature1, information_mutual_conditional(\n",
    "                    features[feature2].values,features[feature1].values,y))   "
   ]
  },
  {
   "cell_type": "code",
   "execution_count": 4,
   "metadata": {},
   "outputs": [],
   "source": [
    "bqm = dimod.BinaryQuadraticModel.empty(dimod.BINARY)\n",
    "titanic = pd.read_csv(\"./formatted_titanic.csv\") \n",
    "add_force_fields(titanic, 'survived')\n",
    "add_couplers(titanic, 'survived')"
   ]
  },
  {
   "cell_type": "code",
   "execution_count": 5,
   "metadata": {},
   "outputs": [
    {
     "name": "stdout",
     "output_type": "stream",
     "text": [
      "BinaryQuadraticModel({pclass: 0.07475277173067929, sex: 0.2153838940211723, age: 0.005856173464143133, fare: 0.02561601191142715, cabin: 0.07088477290688078, miss: 0.06425980788011365, master: 0.0022420218792446045, mr: 0.21729321954570802, mrs: 0.09716723053142828, rare: 2.0483711632046653e-05, alone: 0.03089391871327196, embarked port S: 0.02188782688711921, embarked port C: 0.03431208876301195, embarked port Q: 0.003495746730361904}, {('pclass', 'sex'): 0.13376186322484607, ('pclass', 'age'): 0.5221420938613033, ('pclass', 'fare'): 0.5334373220136444, ('pclass', 'cabin'): 1.6535396711236245, ('pclass', 'miss'): 0.09931409978824668, ('pclass', 'master'): 0.0957024057971072, ('pclass', 'mr'): 0.12268445363128677, ('pclass', 'mrs'): 0.04582236118052929, ('pclass', 'rare'): 0.14054871201925145, ('pclass', 'alone'): 0.043603356746533706, ('pclass', 'embarked port S'): 0.22777787432065288, ('pclass', 'embarked port C'): 0.29448371256530326, ('pclass', 'embarked port Q'): 0.073936885223012, ('sex', 'age'): 0.0501710719265942, ('sex', 'fare'): 0.03596112271321594, ('sex', 'cabin'): 0.011320333940668448, ('sex', 'miss'): 1.2062285082931332, ('sex', 'master'): 0.21397781540437677, ('sex', 'mr'): 1.8623516197819434, ('sex', 'mrs'): 0.7297944408260637, ('sex', 'rare'): 0.029563676620029344, ('sex', 'alone'): 0.11341390153298114, ('sex', 'embarked port S'): 0.0023358086908693565, ('sex', 'embarked port C'): 0.010163185123618135, ('sex', 'embarked port Q'): 0.030665215181043592, ('age', 'fare'): 0.07207043859548534, ('age', 'cabin'): 0.23372748800601695, ('age', 'miss'): 0.24048386460518678, ('age', 'master'): 0.4730024918505835, ('age', 'mr'): 0.23456287865224112, ('age', 'mrs'): 0.17061684259651333, ('age', 'rare'): 0.10352892806938563, ('age', 'alone'): 0.1913073580893574, ('age', 'embarked port S'): 0.02332086974193537, ('age', 'embarked port C'): 0.03128728574493422, ('age', 'embarked port Q'): 0.03480769654887972, ('fare', 'cabin'): 0.33043715059270085, ('fare', 'miss'): 0.03408442485808738, ('fare', 'master'): 0.00826035719875362, ('fare', 'mr'): 0.050568819609505766, ('fare', 'mrs'): 0.0025736915324099385, ('fare', 'rare'): 0.01262456759698205, ('fare', 'alone'): 0.08941514066003986, ('fare', 'embarked port S'): 0.1108750928635418, ('fare', 'embarked port C'): 0.15288729828119152, ('fare', 'embarked port Q'): 0.018099913344877372, ('cabin', 'miss'): 0.023803904196949333, ('cabin', 'master'): 0.026039122684261784, ('cabin', 'mr'): 0.015372577791948672, ('cabin', 'mrs'): 0.009519710086458133, ('cabin', 'rare'): 0.03514732673410892, ('cabin', 'alone'): 0.03840059128814577, ('cabin', 'embarked port S'): 0.10503529444967796, ('cabin', 'embarked port C'): 0.1729206987066192, ('cabin', 'embarked port Q'): 0.029951784899430844, ('miss', 'master'): 0.08466181952081442, ('miss', 'mr'): 0.8902410744105964, ('miss', 'mrs'): 0.44357737839499123, ('miss', 'rare'): 0.036913548628112025, ('miss', 'alone'): 0.05214265452745792, ('miss', 'embarked port S'): 0.0072840421011779455, ('miss', 'embarked port C'): 0.004626366114359293, ('miss', 'embarked port Q'): 0.059179453440957985, ('master', 'mr'): 0.2603766287052487, ('master', 'mrs'): 0.07098000790991144, ('master', 'rare'): 0.008107900974611226, ('master', 'alone'): 0.2439157982475928, ('master', 'embarked port S'): 0.0078000478239896864, ('master', 'embarked port C'): 0.010397103244022432, ('master', 'embarked port Q'): 0.021471894882913567, ('mr', 'mrs'): 0.53906416965307, ('mr', 'rare'): 0.16193100443891417, ('mr', 'alone'): 0.286478274874721, ('mr', 'embarked port S'): 0.0027827226534089533, ('mr', 'embarked port C'): 0.015829878049578028, ('mr', 'embarked port Q'): 0.053673661583269805, ('mrs', 'rare'): 0.029371988172185226, ('mrs', 'alone'): 0.29382098660286715, ('mrs', 'embarked port S'): 0.006660338686266698, ('mrs', 'embarked port C'): 0.013078405616251843, ('mrs', 'embarked port Q'): 0.013154052017062767, ('rare', 'alone'): 0.004838684857187303, ('rare', 'embarked port S'): 0.005903639902832047, ('rare', 'embarked port C'): 0.007527402464321042, ('rare', 'embarked port Q'): 0.004189399629761503, ('alone', 'embarked port S'): 0.0011395206125719426, ('alone', 'embarked port C'): 0.014354203237450847, ('alone', 'embarked port Q'): 0.032044750821278, ('embarked port S', 'embarked port C'): 2.102594962962945, ('embarked port S', 'embarked port Q'): 0.4489206453597232, ('embarked port C', 'embarked port Q'): 0.05632586613734469}, 0.0, 'BINARY')\n"
     ]
    }
   ],
   "source": [
    "print(bqm)"
   ]
  },
  {
   "cell_type": "markdown",
   "metadata": {},
   "source": [
    "# Buscando una Incrustación"
   ]
  },
  {
   "cell_type": "markdown",
   "metadata": {},
   "source": [
    "<img src=\"chimera.png\" alt=\"chimera graph\" style=\"max-height: 20em; width:auto;\">"
   ]
  },
  {
   "cell_type": "code",
   "execution_count": 6,
   "metadata": {},
   "outputs": [
    {
     "name": "stdout",
     "output_type": "stream",
     "text": [
      "longitud de cadena máxima 5.\n"
     ]
    }
   ],
   "source": [
    "from dwave.system import DWaveSampler, FixedEmbeddingComposite\n",
    "from dwave.embedding.chimera import find_clique_embedding\n",
    "\n",
    "qpu = DWaveSampler(solver={'qpu': True})\n",
    "\n",
    "embedding = find_clique_embedding(bqm.variables,\n",
    "                                  # size of the chimera lattice\n",
    "                                  16, #filas\n",
    "                                  16, #columnas\n",
    "                                  4,  # size of shore within each tile\n",
    "                                  target_edges=qpu.edgelist)\n",
    "\n",
    "qpu_sampler = FixedEmbeddingComposite(qpu, embedding)\n",
    "\n",
    "print(\"longitud de cadena máxima {}.\".format(max(len(x) for x in embedding.values())))"
   ]
  },
  {
   "cell_type": "markdown",
   "metadata": {},
   "source": [
    "# Definiendo el Workflow"
   ]
  },
  {
   "cell_type": "code",
   "execution_count": 7,
   "metadata": {},
   "outputs": [],
   "source": [
    "from hybrid.reference.kerberos import KerberosSampler\n",
    "\n",
    "kerberos_sampler = KerberosSampler() "
   ]
  },
  {
   "cell_type": "markdown",
   "metadata": {},
   "source": [
    "## Dataset 1: titanic"
   ]
  },
  {
   "cell_type": "code",
   "execution_count": 8,
   "metadata": {},
   "outputs": [],
   "source": [
    "def plot_feature_selection(features, selected_features):\n",
    "    fig = plt.figure(figsize=(6, 6))\n",
    "    ax = fig.add_axes([0.1, 0.3, .9, .7])\n",
    "    ax.set_title(\"Best Feature Selection\")\n",
    "    ax.set_ylabel('Number of Selected Features')\n",
    "    ax.set_xticks(np.arange(len(features)))\n",
    "    ax.set_xticklabels(features, rotation=90)\n",
    "    ax.set_yticks(np.arange(len(features)))\n",
    "    ax.set_yticklabels(np.arange(1, len(features)+1))\n",
    "    # Set a grid on minor ticks\n",
    "    ax.set_xticks(np.arange(-0.5, len(features)), minor=True)\n",
    "    ax.set_yticks(np.arange(-0.5, len(features)), minor=True)\n",
    "    ax.grid(which='minor', color='black')\n",
    "    ax.imshow(selected_features, cmap=colors.ListedColormap(['white', 'red']))"
   ]
  },
  {
   "cell_type": "code",
   "execution_count": 29,
   "metadata": {},
   "outputs": [],
   "source": [
    "features = titanic.drop('survived', axis=1).columns\n",
    "selected_features = np.zeros((len(features), len(features)))\n",
    "k = 3\n",
    "kbqm = dimod.generators.combinations(features, k, strength=5)\n",
    "kbqm.update(bqm)\n",
    "kbqm.normalize()\n",
    "\n",
    "#OBTENER LA MEJOR RESPUESTA\n",
    "\n",
    "best = kerberos_sampler.sample(kbqm, qpu_sampler=qpu_sampler, qpu_reads=10000, max_iter=1).first.sample \n",
    "    \n",
    "\n",
    "for fi, f in enumerate(features):\n",
    "    selected_features[k-1, fi] = best[f]"
   ]
  },
  {
   "cell_type": "code",
   "execution_count": 30,
   "metadata": {},
   "outputs": [
    {
     "data": {
      "image/png": "[encoded data removed]",
      "text/plain": [
       "<Figure size 432x432 with 1 Axes>"
      ]
     },
     "metadata": {
      "needs_background": "light"
     },
     "output_type": "display_data"
    }
   ],
   "source": [
    "import matplotlib.pyplot as plt\n",
    "import matplotlib.colors as colors\n",
    "plot_feature_selection(features,selected_features)"
   ]
  },
  {
   "cell_type": "code",
   "execution_count": 26,
   "metadata": {},
   "outputs": [
    {
     "name": "stdout",
     "output_type": "stream",
     "text": [
      "sex,miss,mr\n"
     ]
    }
   ],
   "source": [
    "possible_results = []\n",
    "mapping_results_features = {}\n",
    "\n",
    "c = 0\n",
    "for var1 in features:\n",
    "    for var2 in features:\n",
    "        if var1 != var2:\n",
    "            for var3 in features:\n",
    "                if(var3 != var1 and var3 != var2):\n",
    "                    temp = information_mutual(titanic[var1].values, titanic['survived'].values)\n",
    "                    temp += information_mutual(titanic[var2].values, titanic['survived'].values)\n",
    "                    temp += information_mutual(titanic[var3].values, titanic['survived'].values)\n",
    "                    temp += information_mutual_conditional(\n",
    "                        titanic[var1].values,titanic[var2].values,titanic['survived'].values)\n",
    "                    temp += information_mutual_conditional(\n",
    "                        titanic[var2].values,titanic[var1].values,titanic['survived'].values)\n",
    "                    temp += information_mutual_conditional(\n",
    "                        titanic[var1].values,titanic[var3].values,titanic['survived'].values)\n",
    "                    temp += information_mutual_conditional(\n",
    "                        titanic[var3].values,titanic[var1].values,titanic['survived'].values)\n",
    "                    temp += information_mutual_conditional(\n",
    "                        titanic[var2].values,titanic[var3].values,titanic['survived'].values)\n",
    "                    temp += information_mutual_conditional(\n",
    "                        titanic[var3].values,titanic[var2].values,titanic['survived'].values)\n",
    "                    possible_results.append(temp)\n",
    "                    mapping_results_features[c] = \",\".join([var1, var2, var3])\n",
    "                    c+=1\n",
    "        \n",
    "import operator\n",
    "index, value = max(enumerate(possible_results), key=operator.itemgetter(1))\n",
    "print(mapping_results_features[index])"
   ]
  },
  {
   "cell_type": "code",
   "execution_count": 41,
   "metadata": {},
   "outputs": [
    {
     "name": "stdout",
     "output_type": "stream",
     "text": [
      "1.4596207476989558\n"
     ]
    }
   ],
   "source": [
    "for i, val in enumerate(possible_results):\n",
    "    if mapping_results_features[i] == \"mr,sex,rare\":\n",
    "        print(val)"
   ]
  },
  {
   "cell_type": "code",
   "execution_count": 36,
   "metadata": {},
   "outputs": [
    {
     "data": {
      "text/plain": [
       "2.4763475226898306"
      ]
     },
     "execution_count": 36,
     "metadata": {},
     "output_type": "execute_result"
    }
   ],
   "source": [
    "value"
   ]
  },
  {
   "cell_type": "code",
   "execution_count": 37,
   "metadata": {},
   "outputs": [
    {
     "name": "stdout",
     "output_type": "stream",
     "text": [
      "Solution: sample=Sample(sample={'age': 0, 'alone': 0, 'cabin': 0, 'embarked port C': 0, 'embarked port Q': 0, 'embarked port S': 0, 'fare': 0, 'master': 0, 'miss': 0, 'mr': 1, 'mrs': 0, 'pclass': 0, 'rare': 1, 'sex': 1}, energy=0.09946183741867998, num_occurrences=1)\n"
     ]
    }
   ],
   "source": [
    "# workflow\n",
    "iteration = hybrid.RacingBranches(\n",
    "    hybrid.InterruptableTabuSampler(),\n",
    "    hybrid.EnergyImpactDecomposer(size=2)\n",
    "    | hybrid.QPUSubproblemAutoEmbeddingSampler()\n",
    "    | hybrid.SplatComposer()\n",
    ") | hybrid.ArgMin()\n",
    "workflow = hybrid.LoopUntilNoImprovement(iteration, #workflow\n",
    "                                         convergence=3 #hasta 3 iteraciones sin cambios\n",
    "                                        )\n",
    "\n",
    "\n",
    "init_state = hybrid.State.from_problem(kbqm)\n",
    "final_state = workflow.run(init_state).result()\n",
    "\n",
    "\n",
    "print(\"Solution: sample={.samples.first}\".format(final_state))"
   ]
  },
  {
   "cell_type": "markdown",
   "metadata": {},
   "source": [
    "## Dataset 2: Housing"
   ]
  },
  {
   "cell_type": "code",
   "execution_count": 56,
   "metadata": {},
   "outputs": [
    {
     "data": {
      "text/html": [
       "<div>\n",
       "<style scoped>\n",
       "    .dataframe tbody tr th:only-of-type {\n",
       "        vertical-align: middle;\n",
       "    }\n",
       "\n",
       "    .dataframe tbody tr th {\n",
       "        vertical-align: top;\n",
       "    }\n",
       "\n",
       "    .dataframe thead th {\n",
       "        text-align: right;\n",
       "    }\n",
       "</style>\n",
       "<table border=\"1\" class=\"dataframe\">\n",
       "  <thead>\n",
       "    <tr style=\"text-align: right;\">\n",
       "      <th></th>\n",
       "      <th>MSSubClass</th>\n",
       "      <th>MSZoning</th>\n",
       "      <th>LotFrontage</th>\n",
       "      <th>LotArea</th>\n",
       "      <th>Street</th>\n",
       "      <th>Alley</th>\n",
       "      <th>LotShape</th>\n",
       "      <th>LandContour</th>\n",
       "      <th>Utilities</th>\n",
       "      <th>LotConfig</th>\n",
       "      <th>...</th>\n",
       "      <th>PoolArea</th>\n",
       "      <th>PoolQC</th>\n",
       "      <th>Fence</th>\n",
       "      <th>MiscFeature</th>\n",
       "      <th>MiscVal</th>\n",
       "      <th>MoSold</th>\n",
       "      <th>YrSold</th>\n",
       "      <th>SaleType</th>\n",
       "      <th>SaleCondition</th>\n",
       "      <th>SalePrice</th>\n",
       "    </tr>\n",
       "  </thead>\n",
       "  <tbody>\n",
       "    <tr>\n",
       "      <th>0</th>\n",
       "      <td>60</td>\n",
       "      <td>RL</td>\n",
       "      <td>65.0</td>\n",
       "      <td>8450</td>\n",
       "      <td>Pave</td>\n",
       "      <td>0</td>\n",
       "      <td>Reg</td>\n",
       "      <td>Lvl</td>\n",
       "      <td>AllPub</td>\n",
       "      <td>Inside</td>\n",
       "      <td>...</td>\n",
       "      <td>0</td>\n",
       "      <td>0</td>\n",
       "      <td>0</td>\n",
       "      <td>0</td>\n",
       "      <td>0</td>\n",
       "      <td>2</td>\n",
       "      <td>2008</td>\n",
       "      <td>WD</td>\n",
       "      <td>Normal</td>\n",
       "      <td>208500</td>\n",
       "    </tr>\n",
       "    <tr>\n",
       "      <th>1</th>\n",
       "      <td>20</td>\n",
       "      <td>RL</td>\n",
       "      <td>80.0</td>\n",
       "      <td>9600</td>\n",
       "      <td>Pave</td>\n",
       "      <td>0</td>\n",
       "      <td>Reg</td>\n",
       "      <td>Lvl</td>\n",
       "      <td>AllPub</td>\n",
       "      <td>FR2</td>\n",
       "      <td>...</td>\n",
       "      <td>0</td>\n",
       "      <td>0</td>\n",
       "      <td>0</td>\n",
       "      <td>0</td>\n",
       "      <td>0</td>\n",
       "      <td>5</td>\n",
       "      <td>2007</td>\n",
       "      <td>WD</td>\n",
       "      <td>Normal</td>\n",
       "      <td>181500</td>\n",
       "    </tr>\n",
       "    <tr>\n",
       "      <th>2</th>\n",
       "      <td>60</td>\n",
       "      <td>RL</td>\n",
       "      <td>68.0</td>\n",
       "      <td>11250</td>\n",
       "      <td>Pave</td>\n",
       "      <td>0</td>\n",
       "      <td>IR1</td>\n",
       "      <td>Lvl</td>\n",
       "      <td>AllPub</td>\n",
       "      <td>Inside</td>\n",
       "      <td>...</td>\n",
       "      <td>0</td>\n",
       "      <td>0</td>\n",
       "      <td>0</td>\n",
       "      <td>0</td>\n",
       "      <td>0</td>\n",
       "      <td>9</td>\n",
       "      <td>2008</td>\n",
       "      <td>WD</td>\n",
       "      <td>Normal</td>\n",
       "      <td>223500</td>\n",
       "    </tr>\n",
       "    <tr>\n",
       "      <th>3</th>\n",
       "      <td>70</td>\n",
       "      <td>RL</td>\n",
       "      <td>60.0</td>\n",
       "      <td>9550</td>\n",
       "      <td>Pave</td>\n",
       "      <td>0</td>\n",
       "      <td>IR1</td>\n",
       "      <td>Lvl</td>\n",
       "      <td>AllPub</td>\n",
       "      <td>Corner</td>\n",
       "      <td>...</td>\n",
       "      <td>0</td>\n",
       "      <td>0</td>\n",
       "      <td>0</td>\n",
       "      <td>0</td>\n",
       "      <td>0</td>\n",
       "      <td>2</td>\n",
       "      <td>2006</td>\n",
       "      <td>WD</td>\n",
       "      <td>Abnorml</td>\n",
       "      <td>140000</td>\n",
       "    </tr>\n",
       "    <tr>\n",
       "      <th>4</th>\n",
       "      <td>60</td>\n",
       "      <td>RL</td>\n",
       "      <td>84.0</td>\n",
       "      <td>14260</td>\n",
       "      <td>Pave</td>\n",
       "      <td>0</td>\n",
       "      <td>IR1</td>\n",
       "      <td>Lvl</td>\n",
       "      <td>AllPub</td>\n",
       "      <td>FR2</td>\n",
       "      <td>...</td>\n",
       "      <td>0</td>\n",
       "      <td>0</td>\n",
       "      <td>0</td>\n",
       "      <td>0</td>\n",
       "      <td>0</td>\n",
       "      <td>12</td>\n",
       "      <td>2008</td>\n",
       "      <td>WD</td>\n",
       "      <td>Normal</td>\n",
       "      <td>250000</td>\n",
       "    </tr>\n",
       "  </tbody>\n",
       "</table>\n",
       "<p>5 rows × 80 columns</p>\n",
       "</div>"
      ],
      "text/plain": [
       "   MSSubClass MSZoning  LotFrontage  LotArea Street Alley LotShape  \\\n",
       "0          60       RL         65.0     8450   Pave     0      Reg   \n",
       "1          20       RL         80.0     9600   Pave     0      Reg   \n",
       "2          60       RL         68.0    11250   Pave     0      IR1   \n",
       "3          70       RL         60.0     9550   Pave     0      IR1   \n",
       "4          60       RL         84.0    14260   Pave     0      IR1   \n",
       "\n",
       "  LandContour Utilities LotConfig  ... PoolArea PoolQC Fence MiscFeature  \\\n",
       "0         Lvl    AllPub    Inside  ...        0      0     0           0   \n",
       "1         Lvl    AllPub       FR2  ...        0      0     0           0   \n",
       "2         Lvl    AllPub    Inside  ...        0      0     0           0   \n",
       "3         Lvl    AllPub    Corner  ...        0      0     0           0   \n",
       "4         Lvl    AllPub       FR2  ...        0      0     0           0   \n",
       "\n",
       "  MiscVal MoSold  YrSold  SaleType  SaleCondition  SalePrice  \n",
       "0       0      2    2008        WD         Normal     208500  \n",
       "1       0      5    2007        WD         Normal     181500  \n",
       "2       0      9    2008        WD         Normal     223500  \n",
       "3       0      2    2006        WD        Abnorml     140000  \n",
       "4       0     12    2008        WD         Normal     250000  \n",
       "\n",
       "[5 rows x 80 columns]"
      ]
     },
     "execution_count": 56,
     "metadata": {},
     "output_type": "execute_result"
    }
   ],
   "source": [
    "bqm = dimod.BinaryQuadraticModel.empty(dimod.BINARY)\n",
    "housing = pd.read_csv(\"./housing.csv\").fillna(0)\n",
    "housing = housing.drop('Id', axis=1)\n",
    "housing.head()"
   ]
  },
  {
   "cell_type": "code",
   "execution_count": 44,
   "metadata": {},
   "outputs": [
    {
     "data": {
      "text/plain": [
       "(1460, 81)"
      ]
     },
     "execution_count": 44,
     "metadata": {},
     "output_type": "execute_result"
    }
   ],
   "source": [
    "housing.shape"
   ]
  },
  {
   "cell_type": "code",
   "execution_count": 59,
   "metadata": {},
   "outputs": [
    {
     "data": {
      "text/plain": [
       "MSSubClass         int64\n",
       "MSZoning          object\n",
       "LotFrontage      float64\n",
       "LotArea            int64\n",
       "Street            object\n",
       "                  ...   \n",
       "MoSold             int64\n",
       "YrSold             int64\n",
       "SaleType          object\n",
       "SaleCondition     object\n",
       "SalePrice          int64\n",
       "Length: 80, dtype: object"
      ]
     },
     "execution_count": 59,
     "metadata": {},
     "output_type": "execute_result"
    }
   ],
   "source": [
    "housing.dtypes"
   ]
  },
  {
   "cell_type": "code",
   "execution_count": 72,
   "metadata": {},
   "outputs": [
    {
     "data": {
      "text/html": [
       "<div>\n",
       "<style scoped>\n",
       "    .dataframe tbody tr th:only-of-type {\n",
       "        vertical-align: middle;\n",
       "    }\n",
       "\n",
       "    .dataframe tbody tr th {\n",
       "        vertical-align: top;\n",
       "    }\n",
       "\n",
       "    .dataframe thead th {\n",
       "        text-align: right;\n",
       "    }\n",
       "</style>\n",
       "<table border=\"1\" class=\"dataframe\">\n",
       "  <thead>\n",
       "    <tr style=\"text-align: right;\">\n",
       "      <th></th>\n",
       "      <th>MSSubClass</th>\n",
       "      <th>MSZoning</th>\n",
       "      <th>LotFrontage</th>\n",
       "      <th>LotArea</th>\n",
       "      <th>Street</th>\n",
       "      <th>Alley</th>\n",
       "      <th>LotShape</th>\n",
       "      <th>LandContour</th>\n",
       "      <th>Utilities</th>\n",
       "      <th>LotConfig</th>\n",
       "      <th>...</th>\n",
       "      <th>PoolArea</th>\n",
       "      <th>PoolQC</th>\n",
       "      <th>Fence</th>\n",
       "      <th>MiscFeature</th>\n",
       "      <th>MiscVal</th>\n",
       "      <th>MoSold</th>\n",
       "      <th>YrSold</th>\n",
       "      <th>SaleType</th>\n",
       "      <th>SaleCondition</th>\n",
       "      <th>SalePrice</th>\n",
       "    </tr>\n",
       "  </thead>\n",
       "  <tbody>\n",
       "    <tr>\n",
       "      <th>0</th>\n",
       "      <td>60</td>\n",
       "      <td>0</td>\n",
       "      <td>65.0</td>\n",
       "      <td>8450</td>\n",
       "      <td>0</td>\n",
       "      <td>0</td>\n",
       "      <td>0</td>\n",
       "      <td>0</td>\n",
       "      <td>0</td>\n",
       "      <td>0</td>\n",
       "      <td>...</td>\n",
       "      <td>0</td>\n",
       "      <td>0</td>\n",
       "      <td>0</td>\n",
       "      <td>0</td>\n",
       "      <td>0</td>\n",
       "      <td>2</td>\n",
       "      <td>2008</td>\n",
       "      <td>0</td>\n",
       "      <td>0</td>\n",
       "      <td>208500</td>\n",
       "    </tr>\n",
       "    <tr>\n",
       "      <th>1</th>\n",
       "      <td>20</td>\n",
       "      <td>0</td>\n",
       "      <td>80.0</td>\n",
       "      <td>9600</td>\n",
       "      <td>0</td>\n",
       "      <td>0</td>\n",
       "      <td>0</td>\n",
       "      <td>0</td>\n",
       "      <td>0</td>\n",
       "      <td>1</td>\n",
       "      <td>...</td>\n",
       "      <td>0</td>\n",
       "      <td>0</td>\n",
       "      <td>0</td>\n",
       "      <td>0</td>\n",
       "      <td>0</td>\n",
       "      <td>5</td>\n",
       "      <td>2007</td>\n",
       "      <td>0</td>\n",
       "      <td>0</td>\n",
       "      <td>181500</td>\n",
       "    </tr>\n",
       "    <tr>\n",
       "      <th>2</th>\n",
       "      <td>60</td>\n",
       "      <td>0</td>\n",
       "      <td>68.0</td>\n",
       "      <td>11250</td>\n",
       "      <td>0</td>\n",
       "      <td>0</td>\n",
       "      <td>1</td>\n",
       "      <td>0</td>\n",
       "      <td>0</td>\n",
       "      <td>0</td>\n",
       "      <td>...</td>\n",
       "      <td>0</td>\n",
       "      <td>0</td>\n",
       "      <td>0</td>\n",
       "      <td>0</td>\n",
       "      <td>0</td>\n",
       "      <td>9</td>\n",
       "      <td>2008</td>\n",
       "      <td>0</td>\n",
       "      <td>0</td>\n",
       "      <td>223500</td>\n",
       "    </tr>\n",
       "    <tr>\n",
       "      <th>3</th>\n",
       "      <td>70</td>\n",
       "      <td>0</td>\n",
       "      <td>60.0</td>\n",
       "      <td>9550</td>\n",
       "      <td>0</td>\n",
       "      <td>0</td>\n",
       "      <td>1</td>\n",
       "      <td>0</td>\n",
       "      <td>0</td>\n",
       "      <td>2</td>\n",
       "      <td>...</td>\n",
       "      <td>0</td>\n",
       "      <td>0</td>\n",
       "      <td>0</td>\n",
       "      <td>0</td>\n",
       "      <td>0</td>\n",
       "      <td>2</td>\n",
       "      <td>2006</td>\n",
       "      <td>0</td>\n",
       "      <td>1</td>\n",
       "      <td>140000</td>\n",
       "    </tr>\n",
       "    <tr>\n",
       "      <th>4</th>\n",
       "      <td>60</td>\n",
       "      <td>0</td>\n",
       "      <td>84.0</td>\n",
       "      <td>14260</td>\n",
       "      <td>0</td>\n",
       "      <td>0</td>\n",
       "      <td>1</td>\n",
       "      <td>0</td>\n",
       "      <td>0</td>\n",
       "      <td>1</td>\n",
       "      <td>...</td>\n",
       "      <td>0</td>\n",
       "      <td>0</td>\n",
       "      <td>0</td>\n",
       "      <td>0</td>\n",
       "      <td>0</td>\n",
       "      <td>12</td>\n",
       "      <td>2008</td>\n",
       "      <td>0</td>\n",
       "      <td>0</td>\n",
       "      <td>250000</td>\n",
       "    </tr>\n",
       "  </tbody>\n",
       "</table>\n",
       "<p>5 rows × 80 columns</p>\n",
       "</div>"
      ],
      "text/plain": [
       "   MSSubClass  MSZoning  LotFrontage  LotArea  Street  Alley  LotShape  \\\n",
       "0          60         0         65.0     8450       0      0         0   \n",
       "1          20         0         80.0     9600       0      0         0   \n",
       "2          60         0         68.0    11250       0      0         1   \n",
       "3          70         0         60.0     9550       0      0         1   \n",
       "4          60         0         84.0    14260       0      0         1   \n",
       "\n",
       "   LandContour  Utilities  LotConfig  ...  PoolArea  PoolQC  Fence  \\\n",
       "0            0          0          0  ...         0       0      0   \n",
       "1            0          0          1  ...         0       0      0   \n",
       "2            0          0          0  ...         0       0      0   \n",
       "3            0          0          2  ...         0       0      0   \n",
       "4            0          0          1  ...         0       0      0   \n",
       "\n",
       "   MiscFeature  MiscVal  MoSold  YrSold  SaleType  SaleCondition  SalePrice  \n",
       "0            0        0       2    2008         0              0     208500  \n",
       "1            0        0       5    2007         0              0     181500  \n",
       "2            0        0       9    2008         0              0     223500  \n",
       "3            0        0       2    2006         0              1     140000  \n",
       "4            0        0      12    2008         0              0     250000  \n",
       "\n",
       "[5 rows x 80 columns]"
      ]
     },
     "execution_count": 72,
     "metadata": {},
     "output_type": "execute_result"
    }
   ],
   "source": [
    "overall_dict = {}\n",
    "for column in housing.columns:\n",
    "    if housing[column].dtype != 'int64' and housing[column].dtype != 'float64':\n",
    "        column_values = housing[[column]].values.ravel()\n",
    "        unique_values =  pd.unique(column_values)\n",
    "        \n",
    "        mapping_dict = {}\n",
    "        c = 0\n",
    "        for unique in unique_values:\n",
    "            mapping_dict[unique] = c\n",
    "            c+=1\n",
    "            \n",
    "        overall_dict[column] = mapping_dict\n",
    "housing.replace(overall_dict, inplace=True)\n",
    "housing = housing.apply(pd.to_numeric)\n",
    "housing.head()\n",
    "        "
   ]
  },
  {
   "cell_type": "code",
   "execution_count": 74,
   "metadata": {},
   "outputs": [],
   "source": [
    "add_force_fields(housing, 'SalePrice')\n",
    "add_couplers(housing, 'SalePrice')"
   ]
  },
  {
   "cell_type": "code",
   "execution_count": 75,
   "metadata": {},
   "outputs": [],
   "source": [
    "features = housing.drop('SalePrice', axis=1).columns\n",
    "selected_features = np.zeros((len(features), len(features)))\n",
    "k = 20\n",
    "kbqm = dimod.generators.combinations(features, k, strength=100)\n",
    "kbqm.update(bqm)\n",
    "kbqm.normalize()"
   ]
  },
  {
   "cell_type": "code",
   "execution_count": 86,
   "metadata": {},
   "outputs": [
    {
     "name": "stdout",
     "output_type": "stream",
     "text": [
      "Solution: sample=Sample(sample={'1stFlrSF': 1, '2ndFlrSF': 1, '3SsnPorch': 0, 'Alley': 0, 'BedroomAbvGr': 0, 'BldgType': 0, 'BsmtCond': 0, 'BsmtExposure': 0, 'BsmtFinSF1': 1, 'BsmtFinSF2': 0, 'BsmtFinType1': 1, 'BsmtFinType2': 0, 'BsmtFullBath': 0, 'BsmtHalfBath': 0, 'BsmtQual': 0, 'BsmtUnfSF': 1, 'CentralAir': 0, 'Condition1': 0, 'Condition2': 0, 'Electrical': 0, 'EnclosedPorch': 0, 'ExterCond': 0, 'ExterQual': 0, 'Exterior1st': 1, 'Exterior2nd': 1, 'Fence': 0, 'FireplaceQu': 0, 'Fireplaces': 0, 'Foundation': 0, 'FullBath': 0, 'Functional': 0, 'GarageArea': 1, 'GarageCars': 0, 'GarageCond': 0, 'GarageFinish': 0, 'GarageQual': 0, 'GarageType': 0, 'GarageYrBlt': 1, 'GrLivArea': 1, 'HalfBath': 0, 'Heating': 0, 'HeatingQC': 0, 'HouseStyle': 0, 'KitchenAbvGr': 0, 'KitchenQual': 0, 'LandContour': 0, 'LandSlope': 0, 'LotArea': 1, 'LotConfig': 0, 'LotFrontage': 1, 'LotShape': 0, 'LowQualFinSF': 0, 'MSSubClass': 1, 'MSZoning': 0, 'MasVnrArea': 0, 'MasVnrType': 0, 'MiscFeature': 0, 'MiscVal': 0, 'MoSold': 1, 'Neighborhood': 1, 'OpenPorchSF': 1, 'OverallCond': 0, 'OverallQual': 0, 'PavedDrive': 0, 'PoolArea': 0, 'PoolQC': 0, 'RoofMatl': 0, 'RoofStyle': 0, 'SaleCondition': 0, 'SaleType': 0, 'ScreenPorch': 0, 'Street': 0, 'TotRmsAbvGrd': 0, 'TotalBsmtSF': 1, 'Utilities': 1, 'WoodDeckSF': 0, 'YearBuilt': 1, 'YearRemodAdd': 1, 'YrSold': 1}, energy=0.2673802156051046, num_occurrences=1)\n"
     ]
    }
   ],
   "source": [
    "import hybrid\n",
    "subproblem = hybrid.EnergyImpactDecomposer(size=10)\n",
    "subsampler = hybrid.QPUSubproblemAutoEmbeddingSampler() | hybrid.SplatComposer()\n",
    "\n",
    "iteration = hybrid.RacingBranches(\n",
    "    hybrid.InterruptableTabuSampler(),\n",
    "    subproblem | subsampler\n",
    ") | hybrid.ArgMin()\n",
    "\n",
    "workflow = hybrid.LoopUntilNoImprovement(iteration, convergence=3)\n",
    "\n",
    "init_state = hybrid.State.from_problem(kbqm)\n",
    "final_state = workflow.run(init_state).result()\n",
    "print(\"Solution: sample={.samples.first}\".format(final_state))"
   ]
  },
  {
   "cell_type": "code",
   "execution_count": 87,
   "metadata": {},
   "outputs": [
    {
     "name": "stdout",
     "output_type": "stream",
     "text": [
      "MSSubClass\n",
      "LotFrontage\n",
      "LotArea\n",
      "Utilities\n",
      "Neighborhood\n",
      "YearBuilt\n",
      "YearRemodAdd\n",
      "Exterior1st\n",
      "Exterior2nd\n",
      "BsmtFinType1\n",
      "BsmtFinSF1\n",
      "BsmtUnfSF\n",
      "TotalBsmtSF\n",
      "1stFlrSF\n",
      "2ndFlrSF\n",
      "GrLivArea\n",
      "GarageYrBlt\n",
      "GarageArea\n",
      "OpenPorchSF\n",
      "MoSold\n",
      "YrSold\n"
     ]
    }
   ],
   "source": [
    "for feature in features:\n",
    "    if final_state.samples.first[0][feature] == 1:\n",
    "        print(feature)"
   ]
  },
  {
   "cell_type": "code",
   "execution_count": 89,
   "metadata": {},
   "outputs": [
    {
     "name": "stdout",
     "output_type": "stream",
     "text": [
      "Solution: sample=Sample(sample={'1stFlrSF': 1, '2ndFlrSF': 1, '3SsnPorch': 0, 'Alley': 0, 'BedroomAbvGr': 0, 'BldgType': 0, 'BsmtCond': 0, 'BsmtExposure': 0, 'BsmtFinSF1': 1, 'BsmtFinSF2': 0, 'BsmtFinType1': 1, 'BsmtFinType2': 0, 'BsmtFullBath': 0, 'BsmtHalfBath': 0, 'BsmtQual': 0, 'BsmtUnfSF': 1, 'CentralAir': 0, 'Condition1': 0, 'Condition2': 0, 'Electrical': 0, 'EnclosedPorch': 0, 'ExterCond': 0, 'ExterQual': 0, 'Exterior1st': 1, 'Exterior2nd': 1, 'Fence': 0, 'FireplaceQu': 0, 'Fireplaces': 0, 'Foundation': 0, 'FullBath': 0, 'Functional': 0, 'GarageArea': 1, 'GarageCars': 0, 'GarageCond': 0, 'GarageFinish': 0, 'GarageQual': 0, 'GarageType': 0, 'GarageYrBlt': 1, 'GrLivArea': 1, 'HalfBath': 0, 'Heating': 0, 'HeatingQC': 0, 'HouseStyle': 0, 'KitchenAbvGr': 0, 'KitchenQual': 0, 'LandContour': 0, 'LandSlope': 0, 'LotArea': 1, 'LotConfig': 0, 'LotFrontage': 1, 'LotShape': 0, 'LowQualFinSF': 0, 'MSSubClass': 1, 'MSZoning': 0, 'MasVnrArea': 0, 'MasVnrType': 0, 'MiscFeature': 0, 'MiscVal': 0, 'MoSold': 0, 'Neighborhood': 1, 'OpenPorchSF': 1, 'OverallCond': 0, 'OverallQual': 0, 'PavedDrive': 0, 'PoolArea': 0, 'PoolQC': 0, 'RoofMatl': 0, 'RoofStyle': 0, 'SaleCondition': 0, 'SaleType': 0, 'ScreenPorch': 0, 'Street': 0, 'TotRmsAbvGrd': 0, 'TotalBsmtSF': 1, 'Utilities': 1, 'WoodDeckSF': 0, 'YearBuilt': 1, 'YearRemodAdd': 1, 'YrSold': 1}, energy=0.002203464095838825, num_occurrences=1)\n"
     ]
    }
   ],
   "source": [
    "kbqm = dimod.generators.combinations(features, k, strength=10000) #bigger alpha\n",
    "kbqm.update(bqm)\n",
    "kbqm.normalize()\n",
    "init_state = hybrid.State.from_problem(kbqm)\n",
    "final_state = workflow.run(init_state).result()\n",
    "print(\"Solution: sample={.samples.first}\".format(final_state))"
   ]
  },
  {
   "cell_type": "code",
   "execution_count": 90,
   "metadata": {},
   "outputs": [
    {
     "name": "stdout",
     "output_type": "stream",
     "text": [
      "MSSubClass\n",
      "LotFrontage\n",
      "LotArea\n",
      "Utilities\n",
      "Neighborhood\n",
      "YearBuilt\n",
      "YearRemodAdd\n",
      "Exterior1st\n",
      "Exterior2nd\n",
      "BsmtFinType1\n",
      "BsmtFinSF1\n",
      "BsmtUnfSF\n",
      "TotalBsmtSF\n",
      "1stFlrSF\n",
      "2ndFlrSF\n",
      "GrLivArea\n",
      "GarageYrBlt\n",
      "GarageArea\n",
      "OpenPorchSF\n",
      "YrSold\n"
     ]
    }
   ],
   "source": [
    "for feature in features:\n",
    "    if final_state.samples.first[0][feature] == 1:\n",
    "        print(feature)"
   ]
  },
  {
   "cell_type": "code",
   "execution_count": null,
   "metadata": {},
   "outputs": [],
   "source": [
    "print()"
   ]
  }
 ],
 "metadata": {
  "kernelspec": {
   "display_name": "Python 3",
   "language": "python",
   "name": "python3"
  },
  "language_info": {
   "codemirror_mode": {
    "name": "ipython",
    "version": 3
   },
   "file_extension": ".py",
   "mimetype": "text/x-python",
   "name": "python",
   "nbconvert_exporter": "python",
   "pygments_lexer": "ipython3",
   "version": "3.7.6"
  }
 },
 "nbformat": 4,
 "nbformat_minor": 4
}
